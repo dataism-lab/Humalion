{
 "cells": [
  {
   "metadata": {},
   "cell_type": "markdown",
   "source": "# Using Synthetic Digital Human Class",
   "id": "7e2f07629dc685e4"
  },
  {
   "metadata": {},
   "cell_type": "markdown",
   "source": "In this example we will create synthetic digital human using face swapping and generate personalised photo, talking head video, and just general photo without persona",
   "id": "cd368b8174698010"
  },
  {
   "metadata": {},
   "cell_type": "markdown",
   "source": "## Create synthetic digital human object",
   "id": "f05923d19e947617"
  },
  {
   "metadata": {
    "ExecuteTime": {
     "end_time": "2024-09-01T09:35:41.327493Z",
     "start_time": "2024-09-01T09:35:41.215479Z"
    }
   },
   "cell_type": "code",
   "source": [
    "from src.humalion.engine.persona import Persona, Gender, SkinTone, BodyShape\n",
    "from src.humalion.engine.digital_human import SyntheticDHuman\n",
    "from src.humalion.models.sd_core import SDCore\n",
    "from src.humalion.models.sdxl import SDXL"
   ],
   "id": "d68993c76ef33ce1",
   "outputs": [],
   "execution_count": 1
  },
  {
   "metadata": {
    "ExecuteTime": {
     "end_time": "2024-09-01T09:35:41.888734Z",
     "start_time": "2024-09-01T09:35:41.831420Z"
    }
   },
   "cell_type": "code",
   "source": [
    "persona = Persona(\n",
    "    random_person=True,\n",
    ")\n",
    "# sd_human = SyntheticDHuman(persona=persona, generative_model=SDXL)\n",
    "# sd_human"
   ],
   "id": "initial_id",
   "outputs": [],
   "execution_count": 2
  },
  {
   "metadata": {},
   "cell_type": "markdown",
   "source": "",
   "id": "603e242f2ea08e94"
  },
  {
   "metadata": {},
   "cell_type": "code",
   "outputs": [],
   "execution_count": null,
   "source": "",
   "id": "603f1179c0eee891"
  }
 ],
 "metadata": {
  "kernelspec": {
   "display_name": "Python 3",
   "language": "python",
   "name": "python3"
  },
  "language_info": {
   "codemirror_mode": {
    "name": "ipython",
    "version": 2
   },
   "file_extension": ".py",
   "mimetype": "text/x-python",
   "name": "python",
   "nbconvert_exporter": "python",
   "pygments_lexer": "ipython2",
   "version": "2.7.6"
  }
 },
 "nbformat": 4,
 "nbformat_minor": 5
}
