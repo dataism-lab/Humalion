{
 "cells": [
  {
   "metadata": {},
   "cell_type": "markdown",
   "source": "# Using Synthetic Digital Human Class",
   "id": "7e2f07629dc685e4"
  },
  {
   "metadata": {},
   "cell_type": "markdown",
   "source": "In this example we will create synthetic digital human using face swapping and generate personalised photo, talking head video, and just general photo without persona",
   "id": "cd368b8174698010"
  },
  {
   "metadata": {},
   "cell_type": "markdown",
   "source": "## Create synthetic digital human object",
   "id": "f05923d19e947617"
  },
  {
   "metadata": {},
   "cell_type": "code",
   "outputs": [],
   "execution_count": null,
   "source": [
    "persona = Persona(\n",
    "    name='Sonya',\n",
    "    gender=Gender.FEMALE,\n",
    "    skintone=SkinTone.NATURAL,\n",
    "    body_shape: BodyShape = BodyShape.HOURGLASS,\n",
    ")\n",
    "sd_human = SyntheticDHuman(persona=persona)\n",
    "sd_human"
   ],
   "id": "initial_id"
  }
 ],
 "metadata": {
  "kernelspec": {
   "display_name": "Python 3",
   "language": "python",
   "name": "python3"
  },
  "language_info": {
   "codemirror_mode": {
    "name": "ipython",
    "version": 2
   },
   "file_extension": ".py",
   "mimetype": "text/x-python",
   "name": "python",
   "nbconvert_exporter": "python",
   "pygments_lexer": "ipython2",
   "version": "2.7.6"
  }
 },
 "nbformat": 4,
 "nbformat_minor": 5
}
